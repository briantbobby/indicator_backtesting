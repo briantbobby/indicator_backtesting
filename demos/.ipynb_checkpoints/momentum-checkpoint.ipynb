{
 "cells": [
  {
   "cell_type": "markdown",
   "id": "0550a61f",
   "metadata": {},
   "source": [
    "# How to Design an Algo Trading Strategy"
   ]
  },
  {
   "cell_type": "markdown",
   "id": "26d24428",
   "metadata": {},
   "source": [
    "Algorithmic trading at its core involves looking for trends that has some predictive power for future prices. While there are sophistcated models that take in thousands of parameters, simple algorithms have proven to work when implemented correctly."
   ]
  },
  {
   "cell_type": "markdown",
   "id": "748586bb",
   "metadata": {},
   "source": [
    "# Momentum Strategies"
   ]
  },
  {
   "cell_type": "markdown",
   "id": "0997eb29",
   "metadata": {},
   "source": [
    "One of the most basic trading ideas is a stock that going up/down will keep going up or down. Momentum strategies look for trends that signal a stock is likely to follow this pattern. A popular idea is comparing different moving averages."
   ]
  },
  {
   "cell_type": "markdown",
   "id": "c3e732bd",
   "metadata": {},
   "source": [
    "## Moving Averages"
   ]
  },
  {
   "cell_type": "markdown",
   "id": "1a72b388",
   "metadata": {},
   "source": [
    "A moving average of a stock for n periods is the average of the stock over the last n periods, calculated constantly whenever a new period is added and the oldest removed.\n",
    "\n",
    "Some key concepts of moving averages are how many periods to look at and how long should each period be. Longer periods/too many periods may include outdated information, while shorter periods/not enough periods may capture too much noise.\n",
    "\n",
    "Moving averages gives us a way to calculate statistics like mean and variance, which tell us the volatility of an asset and allow us to compare the correlation between 2 stocks. Moving averages are popular in momentum strategies because a stock is expected to have normally distributed returns. So when it deviates largely from its mean, there must be some external factors that are influencing the price movement. Even without knowing external factors, a momentum strategy and take advantage of the information and buy/sell the stock before others receive the news."
   ]
  },
  {
   "cell_type": "markdown",
   "id": "af91c234",
   "metadata": {},
   "source": [
    "## Example: 50 vs 200 day moving average."
   ]
  },
  {
   "cell_type": "markdown",
   "id": "700b5b29",
   "metadata": {},
   "source": [
    "This is one most popular signals for momentum strategies. If the 50 day moving average crosses the 200 day moving average, then there is short-term upward/downward pressure on the stock, and we should long/short the stock."
   ]
  },
  {
   "cell_type": "code",
   "execution_count": 86,
   "id": "8fb15429",
   "metadata": {},
   "outputs": [],
   "source": [
    "import numpy as np\n",
    "import matplotlib.pyplot as plt\n",
    "import yfinance as yf"
   ]
  },
  {
   "cell_type": "code",
   "execution_count": 87,
   "id": "e41f27d1",
   "metadata": {},
   "outputs": [],
   "source": [
    "apple = yf.Ticker(\"AAPL\")\n",
    "df_apple = apple.history(period='5y', interval='1d')\n",
    "date = df_apple.index\n",
    "close = df_apple['Close'].values"
   ]
  },
  {
   "cell_type": "code",
   "execution_count": 88,
   "id": "c7325b57",
   "metadata": {},
   "outputs": [],
   "source": [
    "def get_ma(df, period):\n",
    "    prices = []\n",
    "    ma = []   \n",
    "    for p in df:\n",
    "        prices.append(p)\n",
    "        if len(prices)>period:\n",
    "            prices = prices[1:]\n",
    "        ma.append(np.sum(prices)/len(prices))\n",
    "\n",
    "    return ma"
   ]
  },
  {
   "cell_type": "code",
   "execution_count": 89,
   "id": "f6ab7e20",
   "metadata": {},
   "outputs": [],
   "source": [
    "def plot_ma(date, price, short, long):\n",
    "    ma_short = get_ma(price, short)\n",
    "    ma_long = get_ma(price, long)\n",
    "    plt.plot(date, ma_short, color='blue', label='50 day')\n",
    "    plt.plot(date, ma_long, color='orange', label='200 day')\n",
    "    plt.legend()\n",
    "    plt.show()"
   ]
  },
  {
   "cell_type": "code",
   "execution_count": 90,
   "id": "2b013622",
   "metadata": {},
   "outputs": [
    {
     "data": {
      "image/png": "[encoded data removed]",
      "text/plain": [
       "<Figure size 432x288 with 1 Axes>"
      ]
     },
     "metadata": {
      "needs_background": "light"
     },
     "output_type": "display_data"
    }
   ],
   "source": [
    "plot_ma(date, close, 50, 200)"
   ]
  },
  {
   "cell_type": "markdown",
   "id": "aa4afe88",
   "metadata": {},
   "source": [
    "## Problems with Momentum?"
   ]
  },
  {
   "cell_type": "markdown",
   "id": "6811108f",
   "metadata": {},
   "source": [
    "To Add:"
   ]
  },
  {
   "cell_type": "markdown",
   "id": "ca3ad156",
   "metadata": {},
   "source": [
    "# Mean Reversion "
   ]
  },
  {
   "cell_type": "markdown",
   "id": "6e807503",
   "metadata": {},
   "source": [
    "Mean reversion is essentially the opposite idea of momentum: when a stock has been over/under-performing, it should return to its historical mean eventually.\n",
    "\n",
    "How do we know when to use momentum vs mean reversion? Algo trading is hard, but backtesting will give us a better idea than guessing.\n",
    "\n",
    "An idea is that when the price of a stock crosses $x$ deviations from its moving average, then we implement momentum, until it crosses $y>x$ deviations, then we should use mean-reversion."
   ]
  },
  {
   "cell_type": "markdown",
   "id": "c57cd009",
   "metadata": {},
   "source": [
    "## Pairs Trading"
   ]
  },
  {
   "cell_type": "markdown",
   "id": "d6d4e6da",
   "metadata": {},
   "source": [
    "A popular idea for mean reversion strategies is to look at the ratio between 2 highly-correlated stocks (same industry, direct competitors). Theoretically, the spread should never differ too much, so when it does we should short the over-performer and long the under-performer."
   ]
  },
  {
   "cell_type": "markdown",
   "id": "54b8d75e",
   "metadata": {},
   "source": [
    "## Example: Visa vs Mastercard"
   ]
  },
  {
   "cell_type": "code",
   "execution_count": 91,
   "id": "66ec077e",
   "metadata": {},
   "outputs": [],
   "source": [
    "visa = yf.Ticker(\"V\")\n",
    "mastercard = yf.Ticker(\"MA\")\n",
    "df_v = visa.history(period='2y', interval='1d')\n",
    "df_ma = mastercard.history(period='2y', interval='1d')"
   ]
  },
  {
   "cell_type": "code",
   "execution_count": 92,
   "id": "27abf0d9",
   "metadata": {},
   "outputs": [
    {
     "name": "stdout",
     "output_type": "stream",
     "text": [
      "Correlation between Visa and Mastercard is 0.96\n"
     ]
    }
   ],
   "source": [
    "from scipy.stats.stats import pearsonr\n",
    "price_v, price_ma = df_v['Close'],df_ma['Close']\n",
    "print(f\"Correlation between Visa and Mastercard is {round(pearsonr(price_v,price_ma)[0],2)}\")"
   ]
  },
  {
   "cell_type": "code",
   "execution_count": 97,
   "id": "83e85475",
   "metadata": {},
   "outputs": [
    {
     "data": {
      "image/png": "[encoded data removed]",
      "text/plain": [
       "<Figure size 432x288 with 1 Axes>"
      ]
     },
     "metadata": {
      "needs_background": "light"
     },
     "output_type": "display_data"
    }
   ],
   "source": [
    "date = df_v.index\n",
    "ratio = np.divide(price_v,price_ma)\n",
    "n = 100\n",
    "movavg = get_ma(ratio, n)\n",
    "sd = np.sqrt(np.var(movavg))\n",
    "sd_away = 2\n",
    "high = movavg + sd*sd_away\n",
    "low = movavg - sd*sd_away\n",
    "\n",
    "plt.plot(date,ratio)\n",
    "plt.plot(date,high)\n",
    "plt.plot(date,low)\n",
    "plt.show()"
   ]
  },
  {
   "cell_type": "markdown",
   "id": "3e9bb0c7",
   "metadata": {},
   "source": [
    "# Backtesting Problems"
   ]
  },
  {
   "cell_type": "markdown",
   "id": "639f96fc",
   "metadata": {},
   "source": [
    "When we backtest, it is straightforward to execute a trade, but how do we exit the position? Our backtester must decide how and when to takes profits and cut losses."
   ]
  },
  {
   "cell_type": "markdown",
   "id": "f4ae4fea",
   "metadata": {},
   "source": [
    "## Slippage"
   ]
  },
  {
   "cell_type": "markdown",
   "id": "7c21ad8b",
   "metadata": {},
   "source": [
    "In an ideal world, we get filled on our orders at the price we want (market price, bid/ask spread), but prices move quickly in live markets, and in the time it took for our model to process a buy/sell signal and send the order, the price may have moved against us already."
   ]
  },
  {
   "cell_type": "markdown",
   "id": "60190e0d",
   "metadata": {},
   "source": [
    "# Challenge"
   ]
  },
  {
   "cell_type": "markdown",
   "id": "633daa34",
   "metadata": {},
   "source": [
    "Implement a momentum/mean reversion strategy for a stock, or a pair of assets and determine what are the best variables (period length, number of periods, standard deviations away) to use are through backtesting.\n",
    "\n",
    "The backtester can be simple for now to only check for if a trade is good or bad (makes/loses money) and always assume your trades will get the market price.\n",
    "\n",
    "If you have time: $\\newline$\n",
    "-Determine the profit and loss of your strategy. $\\newline$\n",
    "-Improve the execution of your strategy to maximize profit of good trades and minimize the loss of bad trades. $\\newline$\n",
    "-Add noise to your backtester to account for slippage."
   ]
  }
 ],
 "metadata": {
  "kernelspec": {
   "display_name": "Python 3",
   "language": "python",
   "name": "python3"
  },
  "language_info": {
   "codemirror_mode": {
    "name": "ipython",
    "version": 3
   },
   "file_extension": ".py",
   "mimetype": "text/x-python",
   "name": "python",
   "nbconvert_exporter": "python",
   "pygments_lexer": "ipython3",
   "version": "3.8.8"
  }
 },
 "nbformat": 4,
 "nbformat_minor": 5
}
